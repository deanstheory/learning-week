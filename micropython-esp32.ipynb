{
 "cells": [
  {
   "cell_type": "markdown",
   "metadata": {},
   "source": [
    "<img src=\"assets/micropython-esp32.png\">\n"
   ]
  },
  {
   "cell_type": "markdown",
   "metadata": {},
   "source": [
    "***\n",
    "# MicroPython on €10 hardware\n",
    "\n",
    "\n",
    "[MicroPython](https://micropython.org/) is an implementation of the Python 3 optimised to run on microcontrollers.\n",
    "- MicroPython started as a Kickstarter campaign in 2013 by Damien George.\n",
    "- Designed to run on constrained environments. 128K ROM/8K RAM is the recommended minimum configuration.\n",
    "- Compilation is on the chip so no need to install tools on your laptop.\n",
    "- Can interact with the the REPL to run code directly on the hardware. \n",
    "- Includes a subset of core Python libraries (most beginning with 'u'). Hardware specific libraries that vary for each hardware port.\n",
    "- If you don't have a microcontroller try out the [online emulator](http://micropython.org/unicorn/)\n",
    "\n",
    "\n",
    "\n",
    "MicroPython downloads and ESP32 installation instructions are available [here](https://micropython.org/download#esp32).\n"
   ]
  },
  {
   "cell_type": "markdown",
   "metadata": {},
   "source": [
    "***\n",
    "# Jupyter Notebook MicroPython kernel install\n",
    "\n",
    "We are going to be using the [Jupyter MicroPython Remote kernel](https://pypi.org/project/jupyter-micropython-remote/) to interact with a MicroPython board over its REPL interface. \n",
    "\n",
    "\n",
    "\n",
    "From the shell command to install the MicroPython kernel for Jupyter run:\n",
    "\n",
    "```\n",
    "pip install jupyter_micropython_remote\n",
    "```\n",
    "\n",
    "Next register the kernel with Jupyter:\n",
    "\n",
    "```\n",
    "python -m mpy_kernel.install\n",
    "```\n",
    "    \n",
    "And that should be it!!! Run Jupyter notebooks or Jupyter labs:\n",
    "\n",
    "```\n",
    "jupyter notebook\n",
    "```\n",
    "or\n",
    "```\n",
    "jupyter lab\n",
    "```\n",
    "\n",
    "You should now have a **MicroPython Remote** option when creating a new Jupyter notebook.\n",
    "\n"
   ]
  },
  {
   "cell_type": "markdown",
   "metadata": {},
   "source": [
    "***\n",
    "# What does €10 get you?\n",
    "\n",
    "\n",
    "<img src=\"assets/esp32_5_10_15.png\">\n",
    "\n",
    "\n",
    "Quite a lot actually:\n",
    "- €5  ESP32 with 4MB flash, Wi-Fi & Bluetooth, lots of I/O.\n",
    "- €10 ESP32 with 16MB flash, 8MB PSRAM, Wi-Fi & Bluetooth, lots of I/O, lithium battery charging circuit, SD card slot.\n",
    "- €15 ESP32 with 4MB flash, Wi-Fi & Bluetooth, lots of I/O, lithium battery charging circuit, OLED display, LoRa wireless with km range.\n",
    "\n",
    "ESP32 developer boards typically consist of:\n",
    "- ESP32 System On Chip (SOC) as seen at top of the first two of these boards.\n",
    "- USB interface for power and primary communication during development as seen at the bottom of these boards.\n",
    "- GPIO and power pins exposes on two rows of pins either side of the board.\n",
    "- Various manufacturers provide additional features on their boards like battery charging, display, camera, LoRa wireless, GPS.\n",
    "\n",
    "\n",
    "<img src=\"assets/esp32-block-diagram.jpg\">\n",
    "\n",
    "\n",
    "\n",
    "The ESP32 SOC:\n",
    "- Dual core, clock frequency up to 240MHz, 512 KB internal RAM.\n",
    "- Modules come in different variants with additional external flash and PSRAM.\n",
    "- Runs 32 bit programs.\n",
    "- Wi-Fi and bluetooth built-in.\n",
    "- Up to 34 GPIO pins.\n",
    "- Ultra low power co-processor with access to GPIO during deepsleep.\n",
    "- Built in security and encrytion hardware.\n",
    "\n",
    "\n",
    "\n",
    "Check available documentation before buying. \n",
    "- Are board schematics available (usually based on an Espressif reference design)? \n",
    "- Are common parts used for display, LoRa chips, etc? There is better library support for common components.\n"
   ]
  },
  {
   "cell_type": "markdown",
   "metadata": {},
   "source": [
    "***\n",
    "# Establish a notebook connection to your microcontroller \n",
    "\n",
    "The first cell of your Jupyter Notebook should contain something like this:\n",
    "\n",
    "```\n",
    "%connect <device> --baudrate=115200 --user='micro' --password='python' --wait=0\n",
    "```\n",
    "\n",
    "You may need to reset the microcontroller with a soft reboot:\n",
    "\n",
    "```\n",
    "%reboot\n",
    "```\n",
    "\n",
    "**Note: Remember that you should only have one connection open on the serial port connected to the hardware.**\n",
    "\n"
   ]
  },
  {
   "cell_type": "code",
   "execution_count": 1,
   "metadata": {},
   "outputs": [
    {
     "name": "stdout",
     "output_type": "stream",
     "text": [
      "\u001b[34mConnected on COM4\n",
      "\u001b[0m"
     ]
    }
   ],
   "source": [
    "%connect COM4 --baudrate=115200"
   ]
  },
  {
   "cell_type": "code",
   "execution_count": null,
   "metadata": {},
   "outputs": [],
   "source": [
    "%disconnect"
   ]
  },
  {
   "cell_type": "code",
   "execution_count": 1,
   "metadata": {
    "code_folding": [],
    "scrolled": true
   },
   "outputs": [
    {
     "name": "stdout",
     "output_type": "stream",
     "text": [
      "Platform: esp32\n",
      "MicroPython Version: (name='micropython', version=(1, 13, 0), mpy=10757)\n",
      "\n"
     ]
    }
   ],
   "source": [
    "# Lets look at some of the microcontroller system details\n",
    "\n",
    "import sys\n",
    "\n",
    "print('Platform: {}'.format(sys.platform))\n",
    "print('MicroPython Version: {}\\n'.format(sys.implementation))\n"
   ]
  },
  {
   "cell_type": "markdown",
   "metadata": {},
   "source": [
    "***\n",
    "# MicroPython modules\n",
    "\n",
    "Lets see what MicroPython libraries are available on the ESP32 board:\n",
    "\n",
    "- [MicroPython standard libraries and micro-libraries](https://docs.micropython.org/en/latest/library/index.html#python-standard-libraries-and-micro-libraries)\n",
    "\n",
    "\n"
   ]
  },
  {
   "cell_type": "code",
   "execution_count": null,
   "metadata": {},
   "outputs": [],
   "source": [
    "# Get a list of modules available for the ESP32 port.\n",
    "\n",
    "help('modules')"
   ]
  },
  {
   "cell_type": "code",
   "execution_count": null,
   "metadata": {},
   "outputs": [],
   "source": [
    "# The machine module contains functions related to the hardware on the board. \n",
    "# Including: I2C, SPI, UART interface, etc\n",
    "\n",
    "import machine\n",
    "\n",
    "help(machine)"
   ]
  },
  {
   "cell_type": "markdown",
   "metadata": {},
   "source": [
    "***\n",
    "# Controlling machine hardware\n",
    "\n",
    "Lets work through some examples of controlling hardware with MicroPython.\n",
    "\n",
    "\n",
    "<img src=\"assets/esp32_pinout.png\">\n",
    "\n",
    "\n",
    "Peripheral Input/Output include:\n",
    "- 2 × I²C (Inter-Integrated Circuit).\n",
    "- 3 x UART (universal asynchronous receiver/transmitter).\n",
    "- 4 × SPI (Serial Peripheral Interface).\n",
    "- 2 × I²S (Integrated Inter-IC Sound).\n",
    "- CAN 2.0 (Controller Area Network).\n",
    "- PWM (pulse width modulation) up to 16 channels. Useful for LED or motor control.\n",
    "- 10 x Capacitive touch sensors.\n",
    "- 12-bit ADCs (analog-to-digital converter) up to 18 channels.\n",
    "- 2 × 8 bit DACs (digital-to-analog converter).\n",
    "- Hall sensor.\n",
    "- Internal temperature sensor.\n",
    "\n"
   ]
  },
  {
   "cell_type": "markdown",
   "metadata": {},
   "source": [
    "***\n",
    "## Blink the 'Hello World' for microcontroller\n",
    "\n",
    "Lets set a [GPIO pin](https://docs.micropython.org/en/latest/library/machine.Pin.html) as an output and use it to drive an LED. \n"
   ]
  },
  {
   "cell_type": "code",
   "execution_count": 1,
   "metadata": {
    "code_folding": []
   },
   "outputs": [
    {
     "name": "stdout",
     "output_type": "stream",
     "text": [
      "Blink LED . . . . . . . . . . "
     ]
    }
   ],
   "source": [
    "# Set GPIO pin as output and toggle state.\n",
    "\n",
    "from machine import Pin\n",
    "import time\n",
    "\n",
    "led = Pin(18, Pin.OUT)\n",
    "led.off()\n",
    "\n",
    "print('Blink LED', end= ' ')\n",
    "\n",
    "for _ in range(10):\n",
    "    led.value(not led.value())\n",
    "    time.sleep_ms(1000)\n",
    "    print('.', end= ' ')\n",
    "    \n"
   ]
  },
  {
   "cell_type": "markdown",
   "metadata": {},
   "source": [
    "***\n",
    "## Pulse Width Modulation (PWM)\n",
    "\n",
    "PWM is typically used to control the brightness of a LED or to control motor speed.\n",
    "\n",
    "To use PWM first create a Pin object and then specify the pulse frequency and duty cycle.\n",
    "- ESP32 can generate PWM on most I/O pins.\n",
    "- Frequency is from 1Hz to several MHz.\n",
    "- Duty cycle is between 0 (all off) and 1023 (all on), with 512 being 50% duty.\n",
    "\n",
    "<img src=\"assets/pwm.jpg\" width=\"700\">\n"
   ]
  },
  {
   "cell_type": "code",
   "execution_count": null,
   "metadata": {},
   "outputs": [],
   "source": [
    "# Demo: Controller LED with PWM.\n",
    "\n",
    "from machine import Pin, PWM\n",
    "\n",
    "led_pwm = PWM(Pin(18), freq=2, duty=512)\n",
    "\n",
    "print('Frequency: {} Hz'.format(led_pwm.freq()))\n",
    "print('Duty Cycle: {:.1%}'.format(led_pwm.duty()/1024.0))"
   ]
  },
  {
   "cell_type": "code",
   "execution_count": null,
   "metadata": {},
   "outputs": [],
   "source": [
    "# Deactivate PWM\n",
    "\n",
    "led_pwm.deinit()"
   ]
  },
  {
   "cell_type": "markdown",
   "metadata": {},
   "source": [
    "***\n",
    "## Hardware timer\n",
    "\n",
    "To use a [hardware timer](https://docs.micropython.org/en/latest/library/machine.Timer.html) select a timer id, the trigger mode, and specify a callback function.\n",
    "- The ESP32 has 4 hardware timers. Can also specify a software timer by using id = -1\n",
    "- Timer period in ms.\n",
    "- Timer mode:\n",
    " - ```Timer.ONE_SHOT``` - The timer runs once until the configured period of the channel expires.\n",
    " - ```Timer.PERIODIC``` - The timer runs periodically at the configured frequency of the channel.\n",
    "- Callback function is called when triggered.\n",
    "\n"
   ]
  },
  {
   "cell_type": "code",
   "execution_count": null,
   "metadata": {},
   "outputs": [],
   "source": [
    "# Control a LED with a Timer.\n",
    "\n",
    "from machine import Pin, Timer\n",
    "\n",
    "led = Pin(18, Pin.OUT)\n",
    "\n",
    "def toggle_led(timer):\n",
    "    led.value(not led.value())\n",
    "    \n",
    "# Use hardware timer 0\n",
    "led_timer = Timer(0)\n",
    "led_timer.init(period=1000, mode=Timer.PERIODIC, callback=toggle_led)\n"
   ]
  },
  {
   "cell_type": "code",
   "execution_count": null,
   "metadata": {},
   "outputs": [],
   "source": [
    "# Disable timer.\n",
    "\n",
    "led_timer.deinit()"
   ]
  },
  {
   "cell_type": "markdown",
   "metadata": {},
   "source": [
    "***\n",
    "## Hardware interrupt\n",
    "\n",
    "A [hardware interrupt](https://docs.micropython.org/en/latest/library/machine.Pin.html) occurs in response to an external event, eg. a GPIO Interrupt (when a key is pressed).\n",
    "\n",
    "- You can use all GPIOs as interrupts, except GPIO 6 to GPIO 11 (reserved for external flash memory interface).\n",
    "- Set a callback function to be executed on the trigger. Callback functions should be as short and simple as possible.\n",
    "- Interrupts can be triggers on rising/falling edge or pin level.\n"
   ]
  },
  {
   "cell_type": "code",
   "execution_count": null,
   "metadata": {},
   "outputs": [],
   "source": [
    "# Trigger a hardware interrupt from a button press and toggle a LED.\n",
    "# LEDs: Pin 18\n",
    "# Button: Pin 0\n",
    "\n",
    "from machine import Pin\n",
    "\n",
    "led = Pin(18, Pin.OUT)\n",
    "button = Pin(0, mode=Pin.IN, pull=Pin.PULL_UP)\n",
    "\n",
    "def toggle_led(pin):\n",
    "    led.value(not led.value())\n",
    "\n",
    "button.irq(handler=toggle_led, trigger=Pin.IRQ_FALLING)\n"
   ]
  },
  {
   "cell_type": "code",
   "execution_count": null,
   "metadata": {},
   "outputs": [],
   "source": [
    "# Disable IRQ\n",
    "\n",
    "button.irq(trigger=0)"
   ]
  },
  {
   "cell_type": "markdown",
   "metadata": {},
   "source": [
    "***\n",
    "## Capacitive touch\n",
    "\n",
    "There are ten [capacitive touch](http://docs.micropython.org/en/latest/esp32/quickref.html#capacitive-touch) enabled pins that can be used on the ESP32: 0, 2, 4, 12, 13 14, 15, 27, 32, 33.\n",
    "\n",
    "For the demonstration circuit we are using active low logic, ie. the led will turn on when the output pin logic level is 0 (low). The [Signal class](https://docs.micropython.org/en/latest/library/machine.Signal.html) is an extension of the Pin class which can be in “asserted” (on) or “deasserted” (off) states, while being inverted (active-low) or not.\n",
    "\n",
    "<img src=\"assets/active_low_led.png\">\n",
    "\n",
    "\n"
   ]
  },
  {
   "cell_type": "code",
   "execution_count": null,
   "metadata": {},
   "outputs": [],
   "source": [
    "from machine import TouchPad, Pin, Signal\n",
    "import utime\n",
    "\n",
    "threshold = 300\n",
    "\n",
    "# The signal class allows to abstract away active-high/active-low difference\n",
    "ledR = Signal(18, Pin.OUT, invert=True)\n",
    "\n",
    "touch = TouchPad(Pin(2))\n",
    "\n",
    "while True:\n",
    "    if touch.read() < threshold:\n",
    "        ledR.on()\n",
    "    else:\n",
    "        ledR.off()\n",
    "    utime.sleep_ms(100)\n",
    "    "
   ]
  },
  {
   "cell_type": "markdown",
   "metadata": {},
   "source": [
    "***"
   ]
  },
  {
   "cell_type": "markdown",
   "metadata": {},
   "source": [
    "# I²C bus & sensors\n",
    "\n",
    "<img src=\"assets/I2C_bus.png\">\n",
    "\n",
    "The ESP32 offers support for a wide variety of peripheral interfaces with one of the most popular being Inter-Integrated Circuit (I²C or I2C). I²C  uses two wires to communicate between the bus master and slave devices: a bi-directional serial data wire (SDA), and clock line (SCL). The bus supports multiple masters and up to 112 slaves using the 7 bit address scheme.\n",
    "\n",
    "I²C is a popular interface for slower devices (Standard mode (100 Kbit/s), Fast mode (400 Kbit/s)) as it is cheap and requires minimum wiring for the device (typically VCC, GND, SDA, SCL).\n",
    "\n",
    "\n"
   ]
  },
  {
   "cell_type": "markdown",
   "metadata": {},
   "source": [
    "***\n",
    "## I²C bus scan\n",
    "\n",
    "Each I²C device has a unique address. A bus scan cycles through all 127 possible device addresses and checks whether or not an acknowledge is received. \n",
    "\n",
    "A useful list of common I²C device addresses can be found [here](https://learn.adafruit.com/i2c-addresses/the-list).\n",
    "\n"
   ]
  },
  {
   "cell_type": "code",
   "execution_count": 1,
   "metadata": {},
   "outputs": [
    {
     "name": "stdout",
     "output_type": "stream",
     "text": [
      "Scan i2c bus...\n",
      "i2c devices found: 2\n",
      "Decimal address:  104  | Hex address:  0x68\n",
      "Decimal address:  118  | Hex address:  0x76\n"
     ]
    }
   ],
   "source": [
    "# Scan the I2C bus for devices\n",
    "\n",
    "from machine import I2C, Pin\n",
    "\n",
    "i2c = I2C(0, scl=Pin(22), sda=Pin(21))\n",
    "\n",
    "print('Scan i2c bus...')\n",
    "devices = i2c.scan()\n",
    "\n",
    "if len(devices) == 0:\n",
    "    print('No i2c device !')\n",
    "else:\n",
    "    print('i2c devices found:', len(devices))\n",
    "    for device in devices:\n",
    "        print('Decimal address: ', device, ' | Hex address: ', hex(device))\n"
   ]
  },
  {
   "cell_type": "markdown",
   "metadata": {},
   "source": [
    "****"
   ]
  },
  {
   "cell_type": "markdown",
   "metadata": {},
   "source": [
    "## BME280 environmental sensor\n",
    "\n",
    "<img src=\"assets/bme280.jpg\">\n",
    "\n",
    "The BME280 sensor measures temperature, humidity, and barometric pressure.\n",
    "- I²C address: 0x76 (default) or 0x77\n",
    "- [BME280 tutorial with MicroPython library](https://randomnerdtutorials.com/micropython-bme280-esp32-esp8266/). \n",
    "\n",
    "I have already uploaded the Micropython BME280 module to the board flash in directory ```/lib```. MicroPython looks for modules using ```sys.path``` which defaults to ```['', '/lib']```\n",
    "\n"
   ]
  },
  {
   "cell_type": "code",
   "execution_count": null,
   "metadata": {},
   "outputs": [],
   "source": [
    "# Attach a BME280 sensor via I2C bus and read temperature, pressure & humidity\n",
    "\n",
    "from machine import Pin, I2C\n",
    "from time import sleep\n",
    "import BME280\n",
    "\n",
    "# ESP32 - Pin assignment\n",
    "i2c = I2C(0, scl=Pin(22), sda=Pin(21), freq=10000)\n",
    "bme = BME280.BME280(i2c=i2c, address=0x76)\n",
    "\n",
    "for _ in range(3):\n",
    "    print('Temperature: ', bme.temperature)\n",
    "    print('Humidity: ', bme.humidity)\n",
    "    print('Pressure: ', bme.pressure)\n",
    "    sleep(3)\n"
   ]
  },
  {
   "cell_type": "markdown",
   "metadata": {},
   "source": [
    "***\n",
    "## Inertial Measurement Unit\n",
    "\n",
    "\n",
    "<img src=\"assets/RollPitchYaw.jpg\">\n",
    "\n",
    "\n",
    "The MPU6050 is a 6 DOF (degrees of freedom) IMU (inertial measurement unit) sensor with the 3 accelerometer outputs and the 3 gyroscope outputs:\n",
    "- I²C address: 0x68\n",
    "- Demo is based on [MPU6050 example](https://github.com/nihalpasham/micropython_sensorfusion)\n",
    "\n",
    "\n"
   ]
  },
  {
   "cell_type": "code",
   "execution_count": null,
   "metadata": {},
   "outputs": [],
   "source": [
    "# Attach MPU6050 and using a Kalman fusion filter to convert acceleration and angular velocity to roll and pitch measurements\n",
    "\n",
    "import imu\n",
    "import utime\n",
    "\n",
    "imu.init_MPU()\n",
    "imu.calibrate_sensors()\n",
    "\n",
    "while True:\n",
    "    x, y = imu.read_imu6050()\n",
    "    print('Kalman Filter Roll: {:2.2f}  Pitch: {:2.2f}     '.format(x,y), end='\\r')\n",
    "    utime.sleep_ms(250)\n"
   ]
  },
  {
   "cell_type": "code",
   "execution_count": null,
   "metadata": {},
   "outputs": [],
   "source": [
    "%connect COM4 --baudrate=115200"
   ]
  },
  {
   "cell_type": "code",
   "execution_count": null,
   "metadata": {},
   "outputs": [],
   "source": [
    "%disconnect"
   ]
  },
  {
   "cell_type": "markdown",
   "metadata": {},
   "source": [
    "***\n",
    "# Wireless connectivity\n",
    "\n",
    "The ESP32 offers a cheap solution for IoT projects requiring WiFi and Bluetooth capability. Wireless protocols that are supported:\n",
    "- [Wi-Fi](https://docs.micropython.org/en/latest/library/network.WLAN.html): 802.11 b/g/n.\n",
    "- [Bluetooth](https://docs.micropython.org/en/latest/library/ubluetooth.html): v5.0 and BLE.\n",
    "\n",
    "\n",
    "Can configure an ESP32 as a WiFi Station ```network.STA_IF``` or Access Point ```network.AP_IF```.\n"
   ]
  },
  {
   "cell_type": "code",
   "execution_count": null,
   "metadata": {},
   "outputs": [],
   "source": [
    "# Scan for available WiFi networks.\n",
    "\n",
    "import network\n",
    "\n",
    "wlan = network.WLAN(network.STA_IF)\n",
    "wlan.active(True)\n",
    "\n",
    "networks = wlan.scan()\n",
    "for ssid, bssid, channel, rssi, authmode, hidden in sorted(networks, key=lambda x: x[3], reverse=True):\n",
    "    print('ssid: {}, bssid: {}, channel: {}, RSSI: {}, authmode: {}, hidden: {}'.format(ssid, bssid, channel, rssi, authmode, hidden))\n",
    "\n",
    "wlan.disconnect()"
   ]
  },
  {
   "cell_type": "markdown",
   "metadata": {},
   "source": [
    "***\n",
    "MicroPython recently added multicast DNS (mDNS) support for the ESP32 so you can now assign a DHCP hostname for the device and access it by name instead of needing to know its IP address when on the local subnet.\n"
   ]
  },
  {
   "cell_type": "code",
   "execution_count": null,
   "metadata": {},
   "outputs": [],
   "source": [
    "# Connect ESP32 to local WiFi network using credentials read from a configuration file. Set DHCP hostname.\n",
    "\n",
    "from config import wifi_config\n",
    "import network\n",
    "\n",
    "wlan = network.WLAN(network.STA_IF)\n",
    "\n",
    "if not wlan.isconnected():\n",
    "    print('connecting to network...')\n",
    "    wlan.active(True)\n",
    "    # It is important to set the hostname parameter before the network connection is established.\n",
    "    wlan.config(dhcp_hostname = 'learning_week')\n",
    "    wlan.connect(wifi_config['ssid'], wifi_config['password'])\n",
    "    while not wlan.isconnected():\n",
    "        pass\n",
    "\n",
    "print('Network config: ', wlan.ifconfig())\n",
    "print('DHCP hostname: ', wlan.config('dhcp_hostname'))\n"
   ]
  },
  {
   "cell_type": "markdown",
   "metadata": {},
   "source": [
    "***\n",
    "## Set real time clock from NTP server\n",
    "\n",
    "The ESP32 has an internal [RTC](http://docs.micropython.org/en/latest/library/machine.RTC.html) however it is not very accurate. If you need accurate time measurement over an extended period use a temperature compensated RTC like the DS3231.\n",
    "\n",
    "Since we have wireless conectivity we can sychronise the ESP32 clock with an internet NTP server.\n",
    "\n"
   ]
  },
  {
   "cell_type": "code",
   "execution_count": null,
   "metadata": {},
   "outputs": [],
   "source": [
    "# Connect to NTP server and set RTC\n",
    "\n",
    "import ntptime, machine\n",
    "\n",
    "rtc = machine.RTC()\n",
    "print('Before NTP sync: {}'.format(rtc.datetime()))\n",
    "\n",
    "#ntptime.host = 'pool.ntp.org'    # Default host used if not set\n",
    "ntptime.host = 'time.google.com'\n",
    "\n",
    "ntptime.settime()\n",
    "\n",
    "print('After NTP sync:  {}'.format(rtc.datetime()))\n"
   ]
  },
  {
   "cell_type": "markdown",
   "metadata": {},
   "source": [
    "***\n",
    "## HTTP requests\n",
    "\n",
    "Micropython HTTP library is ```urequests``` and has support for:\n",
    "- SSL\n",
    "- Cookies\n",
    "- Basic Auth\n",
    "- Custom HTTP Headers\n",
    "- GET, POST, PUT, PATCH, DELETE, HEAD\n",
    "\n",
    "\n"
   ]
  },
  {
   "cell_type": "code",
   "execution_count": null,
   "metadata": {},
   "outputs": [],
   "source": [
    "import urequests\n",
    "\n",
    "help(urequests)\n"
   ]
  },
  {
   "cell_type": "code",
   "execution_count": null,
   "metadata": {},
   "outputs": [],
   "source": [
    "# Get a list of Github API endpoints\n",
    "\n",
    "import urequests\n",
    "\n",
    "#url = 'http://jsonplaceholder.typicode.com/todos/22'\n",
    "url = 'https://api.github.com'\n",
    "headers = {'User-agent': 'micropython-urequests/1.13.0', 'Accept': 'application/json'}\n",
    "\n",
    "response = urequests.get(url, headers = headers)\n",
    "\n",
    "#print('\\nResponse content: {}'.format(response.content))\n",
    "# Since the response is serialized JSON, we can deserialise into a dictionary for easier parsing\n",
    "print('\\nResponse as dict: {}'.format(response.json()))\n",
    "print('\\nStatus code: {}'.format(response.status_code))\n",
    "print('\\nReason: {}'.format(response.reason.decode('utf-8')))\n",
    "    \n",
    "response.close()\n"
   ]
  },
  {
   "cell_type": "markdown",
   "metadata": {},
   "source": [
    "***\n",
    "# Concurrent tasks with AsyncIO\n",
    "\n",
    "Concurrent programming is provided in Micropython with the [uasyncio](https://docs.micropython.org/en/latest/library/uasyncio.html) library. It implements a subset of the corresponding CPython module.\n",
    "\n",
    "Coroutines are declared with the ```async/await``` syntax in asyncio applications. Use ```create_task()``` to schedule the execution of a coroutine object, followed by ```asyncio.run()```.\n",
    "\n",
    "A good tutorial on the use of ```asycnio``` on embedded hardware can be found [here](https://github.com/peterhinch/micropython-async/blob/master/v3/docs/TUTORIAL.md).\n"
   ]
  },
  {
   "cell_type": "code",
   "execution_count": null,
   "metadata": {},
   "outputs": [],
   "source": [
    "print('IP address: ', wlan.ifconfig()[0])\n",
    "print('DHCP hostname: ', wlan.config('dhcp_hostname'))\n"
   ]
  },
  {
   "cell_type": "code",
   "execution_count": null,
   "metadata": {},
   "outputs": [],
   "source": [
    "# Invoke garbage collection\n",
    "\n",
    "import gc\n",
    "\n",
    "gc.collect()\n"
   ]
  },
  {
   "cell_type": "markdown",
   "metadata": {},
   "source": [
    "***\n",
    "\n",
    "The following example creates two instances of the blink led task and an instance of a socket server running concurrently."
   ]
  },
  {
   "cell_type": "code",
   "execution_count": null,
   "metadata": {},
   "outputs": [],
   "source": [
    "from machine import Pin, I2C\n",
    "import uasyncio as asyncio\n",
    "import utime\n",
    "import json\n",
    "import BME280\n",
    "\n",
    "EPOCH_OFFSET = 946684800   # ESP32 epoch is 2000-1-1 and Unix is 1970-1-1. Adding 946684800 (30 years)\n",
    "\n",
    "ledR = Pin(18, Pin.OUT)\n",
    "ledB = Pin(19, Pin.OUT)\n",
    "\n",
    "async def blink(led, period_ms):\n",
    "    while True:\n",
    "        led.value(not led.value())\n",
    "        await asyncio.sleep_ms(period_ms)\n",
    "\n",
    "\n",
    "i2c = I2C(0, scl=Pin(22), sda=Pin(21), freq=10000)\n",
    "bme = BME280.BME280(i2c=i2c, address=0x76)\n",
    "\n",
    "def read_bme280():\n",
    "    try:\n",
    "        temperature = bme.temperature\n",
    "        humidity = bme.humidity\n",
    "        pressure = bme.pressure\n",
    "        return(temperature, humidity, pressure)\n",
    "    except:\n",
    "        return(0, 0, 0)\n",
    "\n",
    "\n",
    "async def serve_data(reader, writer):\n",
    "    print(await reader.read(512))\n",
    "\n",
    "    header = b'HTTP/1.1 200 OK\\r\\n'\n",
    "    header += b'Content-Type: application/json\\r\\n'\n",
    "    header += b'\\r\\n'\n",
    "\n",
    "    data = {\n",
    "        'device_ip': wlan.ifconfig()[0],\n",
    "        'hostname': wlan.config('dhcp_hostname'),\n",
    "        'device_time': utime.time() + EPOCH_OFFSET,\n",
    "        'led_red': ledR.value(),\n",
    "        'led_blue': ledB.value(),\n",
    "        'temperature': read_bme280()[0],\n",
    "        'humidity': read_bme280()[1],\n",
    "        'pressure': read_bme280()[2]\n",
    "    }\n",
    "\n",
    "    body = json.dumps(data).encode('utf-8')\n",
    "    await writer.awrite(header + body)\n",
    "    await writer.aclose()\n",
    "\n",
    "\n",
    "loop = asyncio.get_event_loop()\n",
    "taskRed = loop.create_task(blink(ledR, 700))\n",
    "taskBlue = loop.create_task(blink(ledB, 400))\n",
    "# host = '0.0.0.0'. Tells the server to host on all IP addresses on all interfaces\n",
    "taskServe = loop.create_task(asyncio.start_server(serve_data, '0.0.0.0', 8081))\n",
    "\n",
    "try:\n",
    "    loop.run_forever()\n",
    "except KeyboardInterrupt:\n",
    "    print('Keyboard interrupt....')    \n",
    "finally:\n",
    "    print('Closing event loop....')\n",
    "    loop.close()\n",
    "\n"
   ]
  },
  {
   "cell_type": "markdown",
   "metadata": {},
   "source": [
    "***"
   ]
  },
  {
   "cell_type": "markdown",
   "metadata": {},
   "source": [
    "# ESP32 deep sleep\n",
    "\n",
    "The microcontroller can enter a sleep state which stops execution in an attempt to reduce power consumption.\n",
    "- ```machine.lightsleep```: In light sleep mode, digital peripherals, most of the RAM, and CPU are clock-gated, and supply voltage is reduced. Upon exit from light sleep, peripherals and CPU resume operation, their internal state is preserved.\n",
    "- ```machine.deepsleep```: In deep sleep mode, CPU, most of the RAM, and all the digital peripherals are powered off. The RTC module is the only parts of the chip which is powered. Deepsleep will not retain RAM or any other state of the system (however data can be stored in the RTC module memory). Upon wake, execution is resumed from the main script, similar to a hard or power-on reset.\n",
    "\n",
    "<img src=\"assets/esp32-deepsleep.jpg\">\n",
    "\n",
    "ESP32 can wake up after sleeping for a specified time. If no time interval is specified, sleep can last indefinitely or until a **wake interrupt** is received from one of the following sources:\n",
    "- Timer.\n",
    "- External wake up when a change in the state of a pin occurs.\n",
    "- Touch pins.\n"
   ]
  },
  {
   "cell_type": "code",
   "execution_count": null,
   "metadata": {},
   "outputs": [],
   "source": [
    "import machine\n",
    "import esp32\n",
    "from machine import Pin\n",
    "from time import sleep\n",
    "\n",
    "wake1 = Pin(0, mode = Pin.IN)\n",
    "\n",
    "esp32.wake_on_ext1(pins = [wake1], level = esp32.WAKEUP_ALL_LOW)\n",
    "\n",
    "for i in reversed(range(5)):\n",
    "    print('Going to sleep in {} seconds...'.format(i+1))\n",
    "    sleep(1)\n",
    "\n",
    "print('Going to sleep now')\n",
    "\n",
    "\n",
    "# Deep sleep until external wake up pin pressed\n",
    "machine.deepsleep()\n",
    "\n",
    "\n",
    "# To get the reason for the wake event use machine.wake_reason()\n",
    "# Possible wakeup_reason values:\n",
    "#    0 - no wake-up reason\n",
    "#    1 - EXT_0 wake-up\n",
    "#    2 - EXT_1 wake-up\n",
    "#    3 - Touchpad wake-up\n",
    "#    4 - RTC wake-up\n",
    "#    5 - ULP wake-up\n",
    "\n",
    "machine.wake_reason()\n"
   ]
  },
  {
   "cell_type": "code",
   "execution_count": null,
   "metadata": {},
   "outputs": [],
   "source": [
    "# Try to reconnect after waking from deepsleep\n",
    "\n",
    "%connect COM4 --baudrate=115200"
   ]
  },
  {
   "cell_type": "code",
   "execution_count": null,
   "metadata": {},
   "outputs": [],
   "source": [
    "%disconnect"
   ]
  },
  {
   "cell_type": "markdown",
   "metadata": {},
   "source": [
    "***\n",
    "# Uploading your Python script to the board\n",
    "\n",
    "With MicroPython boards you can add as many scripts as you like. You are only limited by the size of available flash memory. The file system contains two important files:\n",
    "1. ```/boot.py``` is run when the board is powered on or reset. Generally it is not edited and should only be used to setup board configuration.\n",
    "2. ```/main.py``` is an optional file and is run after boot.py. This file can be used to start your application script after power on. \n",
    "\n"
   ]
  },
  {
   "cell_type": "markdown",
   "metadata": {},
   "source": [
    "***\n",
    "## rshell\n",
    "\n",
    "[Remote MicroPython shell: rshell](https://github.com/dhylands/rshell)\n",
    "\n",
    "\n",
    "To connect rshell to the MicroPytohn hardware:\n",
    "\n",
    "```\n",
    "rshell -p COM4\n",
    "```\n",
    "\n",
    "The should establish a connection to the board. rshell assumes your board is called **/pyboard/**\n",
    "\n",
    "```\n",
    "ls /pyboard -l\n",
    "```\n",
    "\n",
    "To enter the REPL on the hardware type **repl**. **help()** to display REPL help. Ctrl + X to exit the REPL.\n",
    "\n",
    "To copy file to the ESP32 from your local directory:\n",
    "\n",
    "```\n",
    "cp *.py /pyboard\n",
    "ls /pyboard\n",
    "```\n",
    "\n"
   ]
  },
  {
   "cell_type": "code",
   "execution_count": null,
   "metadata": {},
   "outputs": [],
   "source": [
    "# The os module contains functions for filesystem access.\n",
    "\n",
    "import os\n",
    "\n",
    "help(os)"
   ]
  },
  {
   "cell_type": "code",
   "execution_count": null,
   "metadata": {},
   "outputs": [],
   "source": [
    "\n",
    "print('\\n'.join(os.listdir('/')))\n"
   ]
  },
  {
   "cell_type": "code",
   "execution_count": null,
   "metadata": {},
   "outputs": [],
   "source": [
    "# Disconnect notebook from board before using rshell\n",
    "\n",
    "%disconnect"
   ]
  },
  {
   "cell_type": "markdown",
   "metadata": {},
   "source": [
    "***\n",
    "## VS Code & Pymakr\n",
    "\n",
    "A recommendation on a MicroPython IDE is VS Code with the [Pymakr extension](https://docs.pycom.io/gettingstarted/software/vscode/). The Pymakr extension features:\n",
    "- Connects to remote MicroPython board.\n",
    "- Interact with the board with the command line REPL.\n",
    "- Upload your project to the board.\n",
    "- Download files from the board.\n",
    "- Run current editor file or select lines of code.\n",
    "\n"
   ]
  },
  {
   "cell_type": "markdown",
   "metadata": {},
   "source": [
    "***\n",
    "# Debugging with Sigrok PulseView & logic analyzers\n",
    "\n",
    "<img src=\"assets/LogicAnalyzer.png\">\n",
    "\n",
    "\n",
    "You may find it necessary to debug your hardware projects and the combination of [Sigrok PulseView](https://sigrok.org/doc/pulseview/0.4.2/manual.html) and cheap USB logic analyzer hardware (€10 to €20) is a great addition to your toolkit.\n",
    "\n",
    "One of the nice features of PulseView is [protocol decoders](https://sigrok.org/wiki/Protocol_decoders) which can be stacked to decode signals and protocols. A broad range of decoders are supported and you can write your own custom decoder using Python 3.\n",
    "\n",
    "\n",
    "<img src=\"assets/Sigrok_Scan_I2C_1.png\">\n",
    "\n",
    "\n",
    "The above PulseView trace shows a portion of an I²C bus scan with stacked I²C protocol and timing decoders.\n",
    "\n"
   ]
  },
  {
   "cell_type": "code",
   "execution_count": null,
   "metadata": {},
   "outputs": [],
   "source": []
  }
 ],
 "metadata": {
  "kernelspec": {
   "display_name": "MicroPython Remote",
   "language": "micropython",
   "name": "micropython"
  },
  "language_info": {
   "codemirror_mode": "python",
   "file_extension": ".py",
   "mimetype": "text/python",
   "name": "micropython"
  },
  "toc": {
   "base_numbering": 1,
   "nav_menu": {},
   "number_sections": true,
   "sideBar": true,
   "skip_h1_title": false,
   "title_cell": "Table of Contents",
   "title_sidebar": "Contents",
   "toc_cell": false,
   "toc_position": {
    "height": "612px",
    "left": "222px",
    "top": "238.8px",
    "width": "307.193px"
   },
   "toc_section_display": true,
   "toc_window_display": true
  }
 },
 "nbformat": 4,
 "nbformat_minor": 4
}
